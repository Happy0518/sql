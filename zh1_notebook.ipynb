{
    "metadata": {
        "kernelspec": {
            "name": "SQL",
            "display_name": "SQL",
            "language": "sql"
        },
        "language_info": {
            "name": "sql",
            "version": ""
        }
    },
    "nbformat_minor": 2,
    "nbformat": 4,
    "cells": [
        {
            "cell_type": "markdown",
            "source": [
                "Feladat 1"
            ],
            "metadata": {
                "azdata_cell_guid": "2771fd7c-7b2a-47c6-ab4b-875052ff8f94"
            },
            "attachments": {}
        },
        {
            "cell_type": "code",
            "source": [
                "SELECT szh.TIPUS, ROUND(COUNT(*), -2) as foglalas\r\n",
                "FROM Foglalas f JOIN Szoba sz ON f.SZOBA_FK = sz.SZOBA_ID\r\n",
                "JOIN szallashely szh ON szh.SZALLAS_ID = sz.SZALLAS_FK\r\n",
                "GROUP BY szh.TIPUS\r\n",
                "HAVING ROUND(COUNT(*), -2) < 500"
            ],
            "metadata": {
                "azdata_cell_guid": "92b11c5d-74f4-4e83-a3d0-75c1621bcf26",
                "language": "sql"
            },
            "outputs": [
                {
                    "output_type": "display_data",
                    "data": {
                        "text/html": "(3 rows affected)"
                    },
                    "metadata": {}
                },
                {
                    "output_type": "display_data",
                    "data": {
                        "text/html": "Total execution time: 00:00:00.008"
                    },
                    "metadata": {}
                },
                {
                    "output_type": "execute_result",
                    "metadata": {},
                    "execution_count": 13,
                    "data": {
                        "application/vnd.dataresource+json": {
                            "schema": {
                                "fields": [
                                    {
                                        "name": "TIPUS"
                                    },
                                    {
                                        "name": "foglalas"
                                    }
                                ]
                            },
                            "data": [
                                {
                                    "TIPUS": "Apartman",
                                    "foglalas": "100"
                                },
                                {
                                    "TIPUS": "vendégház",
                                    "foglalas": "100"
                                },
                                {
                                    "TIPUS": "panzió",
                                    "foglalas": "200"
                                }
                            ]
                        },
                        "text/html": [
                            "<table>",
                            "<tr><th>TIPUS</th><th>foglalas</th></tr>",
                            "<tr><td>Apartman</td><td>100</td></tr>",
                            "<tr><td>vendégház</td><td>100</td></tr>",
                            "<tr><td>panzió</td><td>200</td></tr>",
                            "</table>"
                        ]
                    }
                }
            ],
            "execution_count": 13
        },
        {
            "cell_type": "markdown",
            "source": [
                "Feladat 2"
            ],
            "metadata": {
                "azdata_cell_guid": "9be7a769-077d-4498-a7f6-0e9aeddac3b8"
            },
            "attachments": {}
        },
        {
            "cell_type": "code",
            "source": [
                "SELECT szh.HELY, sz.SZOBA_SZAMA, count(*) as darab\r\n",
                "FROM szoba sz\r\n",
                "LEFT JOIN szallashely szh on szh.SZALLAS_ID = sz.SZALLAS_FK\r\n",
                "LEFT JOIN Foglalas f ON f.SZOBA_FK = sz.SZOBA_ID\r\n",
                "WHERE f.FOGLALAS_PK IS NOT NULL\r\n",
                "GROUP BY szh.HELY, sz.SZOBA_SZAMA\r\n",
                ""
            ],
            "metadata": {
                "azdata_cell_guid": "d12fbec4-06ba-4aff-826b-eea254d1969d",
                "language": "sql"
            },
            "outputs": [
                {
                    "output_type": "display_data",
                    "data": {
                        "text/html": "(96 rows affected)"
                    },
                    "metadata": {}
                },
                {
                    "output_type": "display_data",
                    "data": {
                        "text/html": "Total execution time: 00:00:00.018"
                    },
                    "metadata": {}
                },
                {
                    "output_type": "execute_result",
                    "metadata": {},
                    "execution_count": 25,
                    "data": {
                        "application/vnd.dataresource+json": {
                            "schema": {
                                "fields": [
                                    {
                                        "name": "HELY"
                                    },
                                    {
                                        "name": "SZOBA_SZAMA"
                                    },
                                    {
                                        "name": "darab"
                                    }
                                ]
                            },
                            "data": [
                                {
                                    "HELY": "Balaton-dél",
                                    "SZOBA_SZAMA": "1",
                                    "darab": "30"
                                },
                                {
                                    "HELY": "Balaton-észak",
                                    "SZOBA_SZAMA": "1",
                                    "darab": "5"
                                },
                                {
                                    "HELY": "Békés megye",
                                    "SZOBA_SZAMA": "1",
                                    "darab": "4"
                                },
                                {
                                    "HELY": "Budapest",
                                    "SZOBA_SZAMA": "1",
                                    "darab": "12"
                                },
                                {
                                    "HELY": "Hajdúbihar megye",
                                    "SZOBA_SZAMA": "1",
                                    "darab": "6"
                                },
                                {
                                    "HELY": "Balaton-dél",
                                    "SZOBA_SZAMA": "10",
                                    "darab": "15"
                                },
                                {
                                    "HELY": "Békés megye",
                                    "SZOBA_SZAMA": "10",
                                    "darab": "7"
                                },
                                {
                                    "HELY": "Budapest",
                                    "SZOBA_SZAMA": "10",
                                    "darab": "13"
                                },
                                {
                                    "HELY": "Balaton-dél",
                                    "SZOBA_SZAMA": "11",
                                    "darab": "8"
                                },
                                {
                                    "HELY": "Budapest",
                                    "SZOBA_SZAMA": "11",
                                    "darab": "20"
                                },
                                {
                                    "HELY": "Balaton-dél",
                                    "SZOBA_SZAMA": "12",
                                    "darab": "16"
                                },
                                {
                                    "HELY": "Budapest",
                                    "SZOBA_SZAMA": "12",
                                    "darab": "18"
                                },
                                {
                                    "HELY": "Balaton-dél",
                                    "SZOBA_SZAMA": "13",
                                    "darab": "9"
                                },
                                {
                                    "HELY": "Budapest",
                                    "SZOBA_SZAMA": "13",
                                    "darab": "8"
                                },
                                {
                                    "HELY": "Balaton-dél",
                                    "SZOBA_SZAMA": "14",
                                    "darab": "8"
                                },
                                {
                                    "HELY": "Budapest",
                                    "SZOBA_SZAMA": "14",
                                    "darab": "18"
                                },
                                {
                                    "HELY": "Balaton-dél",
                                    "SZOBA_SZAMA": "15",
                                    "darab": "8"
                                },
                                {
                                    "HELY": "Budapest",
                                    "SZOBA_SZAMA": "15",
                                    "darab": "17"
                                },
                                {
                                    "HELY": "Balaton-dél",
                                    "SZOBA_SZAMA": "16",
                                    "darab": "7"
                                },
                                {
                                    "HELY": "Budapest",
                                    "SZOBA_SZAMA": "16",
                                    "darab": "9"
                                },
                                {
                                    "HELY": "Balaton-dél",
                                    "SZOBA_SZAMA": "17",
                                    "darab": "9"
                                },
                                {
                                    "HELY": "Budapest",
                                    "SZOBA_SZAMA": "17",
                                    "darab": "9"
                                },
                                {
                                    "HELY": "Balaton-dél",
                                    "SZOBA_SZAMA": "18",
                                    "darab": "8"
                                },
                                {
                                    "HELY": "Budapest",
                                    "SZOBA_SZAMA": "18",
                                    "darab": "16"
                                },
                                {
                                    "HELY": "Balaton-dél",
                                    "SZOBA_SZAMA": "19",
                                    "darab": "10"
                                },
                                {
                                    "HELY": "Budapest",
                                    "SZOBA_SZAMA": "19",
                                    "darab": "9"
                                },
                                {
                                    "HELY": "Balaton-dél",
                                    "SZOBA_SZAMA": "2",
                                    "darab": "28"
                                },
                                {
                                    "HELY": "Balaton-észak",
                                    "SZOBA_SZAMA": "2",
                                    "darab": "6"
                                },
                                {
                                    "HELY": "Békés megye",
                                    "SZOBA_SZAMA": "2",
                                    "darab": "2"
                                },
                                {
                                    "HELY": "Budapest",
                                    "SZOBA_SZAMA": "2",
                                    "darab": "8"
                                },
                                {
                                    "HELY": "Hajdúbihar megye",
                                    "SZOBA_SZAMA": "2",
                                    "darab": "6"
                                },
                                {
                                    "HELY": "Balaton-dél",
                                    "SZOBA_SZAMA": "20",
                                    "darab": "12"
                                },
                                {
                                    "HELY": "Budapest",
                                    "SZOBA_SZAMA": "20",
                                    "darab": "9"
                                },
                                {
                                    "HELY": "Balaton-dél",
                                    "SZOBA_SZAMA": "21",
                                    "darab": "16"
                                },
                                {
                                    "HELY": "Budapest",
                                    "SZOBA_SZAMA": "21",
                                    "darab": "17"
                                },
                                {
                                    "HELY": "Balaton-dél",
                                    "SZOBA_SZAMA": "22",
                                    "darab": "8"
                                },
                                {
                                    "HELY": "Budapest",
                                    "SZOBA_SZAMA": "22",
                                    "darab": "11"
                                },
                                {
                                    "HELY": "Balaton-dél",
                                    "SZOBA_SZAMA": "23",
                                    "darab": "9"
                                },
                                {
                                    "HELY": "Budapest",
                                    "SZOBA_SZAMA": "23",
                                    "darab": "12"
                                },
                                {
                                    "HELY": "Balaton-dél",
                                    "SZOBA_SZAMA": "24",
                                    "darab": "8"
                                },
                                {
                                    "HELY": "Budapest",
                                    "SZOBA_SZAMA": "24",
                                    "darab": "9"
                                },
                                {
                                    "HELY": "Balaton-dél",
                                    "SZOBA_SZAMA": "25",
                                    "darab": "16"
                                },
                                {
                                    "HELY": "Budapest",
                                    "SZOBA_SZAMA": "25",
                                    "darab": "5"
                                },
                                {
                                    "HELY": "Balaton-dél",
                                    "SZOBA_SZAMA": "26",
                                    "darab": "5"
                                },
                                {
                                    "HELY": "Budapest",
                                    "SZOBA_SZAMA": "26",
                                    "darab": "5"
                                },
                                {
                                    "HELY": "Balaton-dél",
                                    "SZOBA_SZAMA": "27",
                                    "darab": "11"
                                },
                                {
                                    "HELY": "Budapest",
                                    "SZOBA_SZAMA": "27",
                                    "darab": "5"
                                },
                                {
                                    "HELY": "Balaton-dél",
                                    "SZOBA_SZAMA": "28",
                                    "darab": "13"
                                },
                                {
                                    "HELY": "Budapest",
                                    "SZOBA_SZAMA": "28",
                                    "darab": "2"
                                },
                                {
                                    "HELY": "Balaton-dél",
                                    "SZOBA_SZAMA": "29",
                                    "darab": "11"
                                },
                                {
                                    "HELY": "Budapest",
                                    "SZOBA_SZAMA": "29",
                                    "darab": "7"
                                },
                                {
                                    "HELY": "Balaton-dél",
                                    "SZOBA_SZAMA": "3",
                                    "darab": "35"
                                },
                                {
                                    "HELY": "Balaton-észak",
                                    "SZOBA_SZAMA": "3",
                                    "darab": "3"
                                },
                                {
                                    "HELY": "Békés megye",
                                    "SZOBA_SZAMA": "3",
                                    "darab": "6"
                                },
                                {
                                    "HELY": "Budapest",
                                    "SZOBA_SZAMA": "3",
                                    "darab": "15"
                                },
                                {
                                    "HELY": "Hajdúbihar megye",
                                    "SZOBA_SZAMA": "3",
                                    "darab": "6"
                                },
                                {
                                    "HELY": "Balaton-dél",
                                    "SZOBA_SZAMA": "30",
                                    "darab": "11"
                                },
                                {
                                    "HELY": "Budapest",
                                    "SZOBA_SZAMA": "30",
                                    "darab": "1"
                                },
                                {
                                    "HELY": "Balaton-dél",
                                    "SZOBA_SZAMA": "31",
                                    "darab": "15"
                                },
                                {
                                    "HELY": "Budapest",
                                    "SZOBA_SZAMA": "31",
                                    "darab": "6"
                                },
                                {
                                    "HELY": "Balaton-dél",
                                    "SZOBA_SZAMA": "32",
                                    "darab": "14"
                                },
                                {
                                    "HELY": "Budapest",
                                    "SZOBA_SZAMA": "32",
                                    "darab": "4"
                                },
                                {
                                    "HELY": "Balaton-dél",
                                    "SZOBA_SZAMA": "33",
                                    "darab": "11"
                                },
                                {
                                    "HELY": "Budapest",
                                    "SZOBA_SZAMA": "33",
                                    "darab": "6"
                                },
                                {
                                    "HELY": "Balaton-dél",
                                    "SZOBA_SZAMA": "34",
                                    "darab": "14"
                                },
                                {
                                    "HELY": "Budapest",
                                    "SZOBA_SZAMA": "34",
                                    "darab": "8"
                                },
                                {
                                    "HELY": "Balaton-dél",
                                    "SZOBA_SZAMA": "35",
                                    "darab": "5"
                                },
                                {
                                    "HELY": "Balaton-dél",
                                    "SZOBA_SZAMA": "36",
                                    "darab": "6"
                                },
                                {
                                    "HELY": "Balaton-dél",
                                    "SZOBA_SZAMA": "37",
                                    "darab": "7"
                                },
                                {
                                    "HELY": "Balaton-dél",
                                    "SZOBA_SZAMA": "38",
                                    "darab": "5"
                                },
                                {
                                    "HELY": "Balaton-dél",
                                    "SZOBA_SZAMA": "39",
                                    "darab": "4"
                                },
                                {
                                    "HELY": "Balaton-dél",
                                    "SZOBA_SZAMA": "4",
                                    "darab": "37"
                                },
                                {
                                    "HELY": "Balaton-észak",
                                    "SZOBA_SZAMA": "4",
                                    "darab": "7"
                                },
                                {
                                    "HELY": "Békés megye",
                                    "SZOBA_SZAMA": "4",
                                    "darab": "8"
                                },
                                {
                                    "HELY": "Budapest",
                                    "SZOBA_SZAMA": "4",
                                    "darab": "18"
                                },
                                {
                                    "HELY": "Hajdúbihar megye",
                                    "SZOBA_SZAMA": "4",
                                    "darab": "5"
                                },
                                {
                                    "HELY": "Balaton-dél",
                                    "SZOBA_SZAMA": "5",
                                    "darab": "28"
                                },
                                {
                                    "HELY": "Balaton-észak",
                                    "SZOBA_SZAMA": "5",
                                    "darab": "5"
                                },
                                {
                                    "HELY": "Békés megye",
                                    "SZOBA_SZAMA": "5",
                                    "darab": "6"
                                },
                                {
                                    "HELY": "Budapest",
                                    "SZOBA_SZAMA": "5",
                                    "darab": "19"
                                },
                                {
                                    "HELY": "Hajdúbihar megye",
                                    "SZOBA_SZAMA": "5",
                                    "darab": "4"
                                },
                                {
                                    "HELY": "Balaton-dél",
                                    "SZOBA_SZAMA": "6",
                                    "darab": "25"
                                },
                                {
                                    "HELY": "Békés megye",
                                    "SZOBA_SZAMA": "6",
                                    "darab": "5"
                                },
                                {
                                    "HELY": "Budapest",
                                    "SZOBA_SZAMA": "6",
                                    "darab": "16"
                                },
                                {
                                    "HELY": "Hajdúbihar megye",
                                    "SZOBA_SZAMA": "6",
                                    "darab": "6"
                                },
                                {
                                    "HELY": "Balaton-dél",
                                    "SZOBA_SZAMA": "7",
                                    "darab": "15"
                                },
                                {
                                    "HELY": "Békés megye",
                                    "SZOBA_SZAMA": "7",
                                    "darab": "4"
                                },
                                {
                                    "HELY": "Budapest",
                                    "SZOBA_SZAMA": "7",
                                    "darab": "14"
                                },
                                {
                                    "HELY": "Hajdúbihar megye",
                                    "SZOBA_SZAMA": "7",
                                    "darab": "3"
                                },
                                {
                                    "HELY": "Balaton-dél",
                                    "SZOBA_SZAMA": "8",
                                    "darab": "13"
                                },
                                {
                                    "HELY": "Békés megye",
                                    "SZOBA_SZAMA": "8",
                                    "darab": "2"
                                },
                                {
                                    "HELY": "Budapest",
                                    "SZOBA_SZAMA": "8",
                                    "darab": "12"
                                },
                                {
                                    "HELY": "Hajdúbihar megye",
                                    "SZOBA_SZAMA": "8",
                                    "darab": "3"
                                },
                                {
                                    "HELY": "Balaton-dél",
                                    "SZOBA_SZAMA": "9",
                                    "darab": "24"
                                },
                                {
                                    "HELY": "Békés megye",
                                    "SZOBA_SZAMA": "9",
                                    "darab": "9"
                                },
                                {
                                    "HELY": "Budapest",
                                    "SZOBA_SZAMA": "9",
                                    "darab": "17"
                                }
                            ]
                        },
                        "text/html": [
                            "<table>",
                            "<tr><th>HELY</th><th>SZOBA_SZAMA</th><th>darab</th></tr>",
                            "<tr><td>Balaton-dél</td><td>1</td><td>30</td></tr>",
                            "<tr><td>Balaton-észak</td><td>1</td><td>5</td></tr>",
                            "<tr><td>Békés megye</td><td>1</td><td>4</td></tr>",
                            "<tr><td>Budapest</td><td>1</td><td>12</td></tr>",
                            "<tr><td>Hajdúbihar megye</td><td>1</td><td>6</td></tr>",
                            "<tr><td>Balaton-dél</td><td>10</td><td>15</td></tr>",
                            "<tr><td>Békés megye</td><td>10</td><td>7</td></tr>",
                            "<tr><td>Budapest</td><td>10</td><td>13</td></tr>",
                            "<tr><td>Balaton-dél</td><td>11</td><td>8</td></tr>",
                            "<tr><td>Budapest</td><td>11</td><td>20</td></tr>",
                            "<tr><td>Balaton-dél</td><td>12</td><td>16</td></tr>",
                            "<tr><td>Budapest</td><td>12</td><td>18</td></tr>",
                            "<tr><td>Balaton-dél</td><td>13</td><td>9</td></tr>",
                            "<tr><td>Budapest</td><td>13</td><td>8</td></tr>",
                            "<tr><td>Balaton-dél</td><td>14</td><td>8</td></tr>",
                            "<tr><td>Budapest</td><td>14</td><td>18</td></tr>",
                            "<tr><td>Balaton-dél</td><td>15</td><td>8</td></tr>",
                            "<tr><td>Budapest</td><td>15</td><td>17</td></tr>",
                            "<tr><td>Balaton-dél</td><td>16</td><td>7</td></tr>",
                            "<tr><td>Budapest</td><td>16</td><td>9</td></tr>",
                            "<tr><td>Balaton-dél</td><td>17</td><td>9</td></tr>",
                            "<tr><td>Budapest</td><td>17</td><td>9</td></tr>",
                            "<tr><td>Balaton-dél</td><td>18</td><td>8</td></tr>",
                            "<tr><td>Budapest</td><td>18</td><td>16</td></tr>",
                            "<tr><td>Balaton-dél</td><td>19</td><td>10</td></tr>",
                            "<tr><td>Budapest</td><td>19</td><td>9</td></tr>",
                            "<tr><td>Balaton-dél</td><td>2</td><td>28</td></tr>",
                            "<tr><td>Balaton-észak</td><td>2</td><td>6</td></tr>",
                            "<tr><td>Békés megye</td><td>2</td><td>2</td></tr>",
                            "<tr><td>Budapest</td><td>2</td><td>8</td></tr>",
                            "<tr><td>Hajdúbihar megye</td><td>2</td><td>6</td></tr>",
                            "<tr><td>Balaton-dél</td><td>20</td><td>12</td></tr>",
                            "<tr><td>Budapest</td><td>20</td><td>9</td></tr>",
                            "<tr><td>Balaton-dél</td><td>21</td><td>16</td></tr>",
                            "<tr><td>Budapest</td><td>21</td><td>17</td></tr>",
                            "<tr><td>Balaton-dél</td><td>22</td><td>8</td></tr>",
                            "<tr><td>Budapest</td><td>22</td><td>11</td></tr>",
                            "<tr><td>Balaton-dél</td><td>23</td><td>9</td></tr>",
                            "<tr><td>Budapest</td><td>23</td><td>12</td></tr>",
                            "<tr><td>Balaton-dél</td><td>24</td><td>8</td></tr>",
                            "<tr><td>Budapest</td><td>24</td><td>9</td></tr>",
                            "<tr><td>Balaton-dél</td><td>25</td><td>16</td></tr>",
                            "<tr><td>Budapest</td><td>25</td><td>5</td></tr>",
                            "<tr><td>Balaton-dél</td><td>26</td><td>5</td></tr>",
                            "<tr><td>Budapest</td><td>26</td><td>5</td></tr>",
                            "<tr><td>Balaton-dél</td><td>27</td><td>11</td></tr>",
                            "<tr><td>Budapest</td><td>27</td><td>5</td></tr>",
                            "<tr><td>Balaton-dél</td><td>28</td><td>13</td></tr>",
                            "<tr><td>Budapest</td><td>28</td><td>2</td></tr>",
                            "<tr><td>Balaton-dél</td><td>29</td><td>11</td></tr>",
                            "<tr><td>Budapest</td><td>29</td><td>7</td></tr>",
                            "<tr><td>Balaton-dél</td><td>3</td><td>35</td></tr>",
                            "<tr><td>Balaton-észak</td><td>3</td><td>3</td></tr>",
                            "<tr><td>Békés megye</td><td>3</td><td>6</td></tr>",
                            "<tr><td>Budapest</td><td>3</td><td>15</td></tr>",
                            "<tr><td>Hajdúbihar megye</td><td>3</td><td>6</td></tr>",
                            "<tr><td>Balaton-dél</td><td>30</td><td>11</td></tr>",
                            "<tr><td>Budapest</td><td>30</td><td>1</td></tr>",
                            "<tr><td>Balaton-dél</td><td>31</td><td>15</td></tr>",
                            "<tr><td>Budapest</td><td>31</td><td>6</td></tr>",
                            "<tr><td>Balaton-dél</td><td>32</td><td>14</td></tr>",
                            "<tr><td>Budapest</td><td>32</td><td>4</td></tr>",
                            "<tr><td>Balaton-dél</td><td>33</td><td>11</td></tr>",
                            "<tr><td>Budapest</td><td>33</td><td>6</td></tr>",
                            "<tr><td>Balaton-dél</td><td>34</td><td>14</td></tr>",
                            "<tr><td>Budapest</td><td>34</td><td>8</td></tr>",
                            "<tr><td>Balaton-dél</td><td>35</td><td>5</td></tr>",
                            "<tr><td>Balaton-dél</td><td>36</td><td>6</td></tr>",
                            "<tr><td>Balaton-dél</td><td>37</td><td>7</td></tr>",
                            "<tr><td>Balaton-dél</td><td>38</td><td>5</td></tr>",
                            "<tr><td>Balaton-dél</td><td>39</td><td>4</td></tr>",
                            "<tr><td>Balaton-dél</td><td>4</td><td>37</td></tr>",
                            "<tr><td>Balaton-észak</td><td>4</td><td>7</td></tr>",
                            "<tr><td>Békés megye</td><td>4</td><td>8</td></tr>",
                            "<tr><td>Budapest</td><td>4</td><td>18</td></tr>",
                            "<tr><td>Hajdúbihar megye</td><td>4</td><td>5</td></tr>",
                            "<tr><td>Balaton-dél</td><td>5</td><td>28</td></tr>",
                            "<tr><td>Balaton-észak</td><td>5</td><td>5</td></tr>",
                            "<tr><td>Békés megye</td><td>5</td><td>6</td></tr>",
                            "<tr><td>Budapest</td><td>5</td><td>19</td></tr>",
                            "<tr><td>Hajdúbihar megye</td><td>5</td><td>4</td></tr>",
                            "<tr><td>Balaton-dél</td><td>6</td><td>25</td></tr>",
                            "<tr><td>Békés megye</td><td>6</td><td>5</td></tr>",
                            "<tr><td>Budapest</td><td>6</td><td>16</td></tr>",
                            "<tr><td>Hajdúbihar megye</td><td>6</td><td>6</td></tr>",
                            "<tr><td>Balaton-dél</td><td>7</td><td>15</td></tr>",
                            "<tr><td>Békés megye</td><td>7</td><td>4</td></tr>",
                            "<tr><td>Budapest</td><td>7</td><td>14</td></tr>",
                            "<tr><td>Hajdúbihar megye</td><td>7</td><td>3</td></tr>",
                            "<tr><td>Balaton-dél</td><td>8</td><td>13</td></tr>",
                            "<tr><td>Békés megye</td><td>8</td><td>2</td></tr>",
                            "<tr><td>Budapest</td><td>8</td><td>12</td></tr>",
                            "<tr><td>Hajdúbihar megye</td><td>8</td><td>3</td></tr>",
                            "<tr><td>Balaton-dél</td><td>9</td><td>24</td></tr>",
                            "<tr><td>Békés megye</td><td>9</td><td>9</td></tr>",
                            "<tr><td>Budapest</td><td>9</td><td>17</td></tr>",
                            "</table>"
                        ]
                    }
                }
            ],
            "execution_count": 25
        }
    ]
}